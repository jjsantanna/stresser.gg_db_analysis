{
 "cells": [
  {
   "cell_type": "markdown",
   "metadata": {},
   "source": [
    "## 5.0. Used Libraries"
   ]
  },
  {
   "cell_type": "code",
   "execution_count": 2,
   "metadata": {
    "collapsed": true
   },
   "outputs": [],
   "source": [
    "import pandas as pd #more info at http://pandas.pydata.org/\n",
    "import numpy as np #more info at http://www.numpy.org/\n",
    "import matplotlib.pyplot as plt #some examples for you at http://matplotlib.org/gallery.html \n",
    "from matplotlib import gridspec #more info at http://matplotlib.org/api/gridspec_api.h}tml\n",
    "import matplotlib.dates as dt\n",
    "from matplotlib.patches import Rectangle\n",
    "from matplotlib import ticker\n",
    "\n",
    "from matplotlib_venn import *\n",
    "%matplotlib inline \n",
    "\n",
    "import seaborn as sns\n",
    "plt.style.use('ggplot') #For improving the visualization style (options: grayscale, bmh, dark_background, ggplot, and fivethirtyeight)\n",
    "# plt.style.use('seaborn-muted')\n",
    "\n",
    "import re\n",
    "\n",
    "import warnings\n",
    "warnings.filterwarnings('ignore') #To avoid showing annoying warns\n",
    "\n",
    "from IPython.display import display"
   ]
  },
  {
   "cell_type": "markdown",
   "metadata": {},
   "source": [
    "## 5.1. Attacks per day "
   ]
  },
  {
   "cell_type": "code",
   "execution_count": null,
   "metadata": {
    "collapsed": true
   },
   "outputs": [],
   "source": [
    "print('1. Attacks per day')"
   ]
  },
  {
   "cell_type": "code",
   "execution_count": null,
   "metadata": {
    "collapsed": true
   },
   "outputs": [],
   "source": [
    "if len(df_attacks)>0:\n",
    "    attack_timeseries=df_attacks.set_index(['date']).groupby(pd.Grouper(freq='M')).agg(['count'])['targetip']\n",
    "    attack_mean_perday=attack_timeseries.mean()\n",
    "    attack_median_perday=attack_timeseries.median()\n",
    "else:\n",
    "    attack_timeseries=\"\""
   ]
  },
  {
   "cell_type": "code",
   "execution_count": null,
   "metadata": {
    "collapsed": true
   },
   "outputs": [],
   "source": [
    "if len(attack_timeseries)>0:\n",
    "    fig = plt.figure(figsize=(10,4))\n",
    "\n",
    "    ax1 = plt.subplot2grid((1,1), (0,0), rowspan=2)\n",
    "    attack_timeseries.plot(ax=ax1,\n",
    "                           legend=False,\n",
    "                           kind='bar'\n",
    "                          )\n",
    "\n",
    "    # X and Y Labels and Ticks\n",
    "    ax1.set_xlabel(\"Time (bin=month)\")\n",
    "    ax1.set_ylabel(\"# attacks\")\n",
    "\n",
    "\n",
    "    fig.savefig('figs/attacks_day.eps', bbox_inches='tight',format='eps', dpi=1200)\n",
    "\n",
    "else:\n",
    "    print(\"Unfortunately, there is no data available!\\n\")"
   ]
  },
  {
   "cell_type": "markdown",
   "metadata": {},
   "source": [
    "## 5.2. Attacks performed by users"
   ]
  },
  {
   "cell_type": "code",
   "execution_count": null,
   "metadata": {
    "collapsed": true
   },
   "outputs": [],
   "source": [
    "print('2. Number of attacks performed by users')"
   ]
  },
  {
   "cell_type": "code",
   "execution_count": null,
   "metadata": {
    "collapsed": true
   },
   "outputs": [],
   "source": [
    "user_attacks=df_attacks['username'].value_counts()\n",
    "freq_user_attacks=user_attacks.value_counts().sort_index()"
   ]
  },
  {
   "cell_type": "code",
   "execution_count": null,
   "metadata": {
    "collapsed": true
   },
   "outputs": [],
   "source": [
    "if len(user_attacks)>0:\n",
    "    fig = plt.figure(figsize=(1, 4))\n",
    "    fig.subplots_adjust(hspace=0.5,wspace=0.3)\n",
    "\n",
    "    ax2 = plt.subplot2grid((1,1), (0,0))\n",
    "\n",
    "    ax1 = ax2.twinx()\n",
    "    ax1.yaxis.set_major_formatter(ticker.FuncFormatter(lambda y, _: '{:.0%}'.format(y)))\n",
    "\n",
    "    freq_user_attacks.to_frame().T.plot(kind='bar',ax=ax2, legend=True, stacked=True, title=\"\",fontsize=12).set_zorder(1)\n",
    "    ax2.set_xlabel(\"\")\n",
    "    ax2.set_ylim(0,len(user_attacks))\n",
    "    ax2.set_ylabel(\"# distinct user (attackers)\")\n",
    "\n",
    "    labels = list(freq_user_attacks.index.values)\n",
    "    legend_show_top=10\n",
    "    ax2.legend(ax2.patches[0:legend_show_top], \n",
    "           labels[0:legend_show_top], \n",
    "           bbox_to_anchor=(2.9, 1.05),\n",
    "           fontsize=11)\n",
    "\n",
    "    plt.setp(ax2.get_xticklabels(), visible=False)\n",
    "\n",
    "    fig.show()\n",
    "    fig.savefig('figs/user_attacks.eps', bbox_inches='tight',format='eps', dpi=1200)\n",
    "else:\n",
    "    print(\"Unfortunately, there is no data available!\\n\")"
   ]
  },
  {
   "cell_type": "markdown",
   "metadata": {},
   "source": [
    "## 5.3 Attacks on the same target"
   ]
  },
  {
   "cell_type": "code",
   "execution_count": null,
   "metadata": {
    "collapsed": true
   },
   "outputs": [],
   "source": [
    "print('3. Attacks on the same target')"
   ]
  },
  {
   "cell_type": "code",
   "execution_count": null,
   "metadata": {
    "collapsed": true
   },
   "outputs": [],
   "source": [
    "num_attacks_on_sametarget=df_attacks['targetip'].value_counts()\n",
    "freq_num_attacks_on_sametarget=num_attacks_on_sametarget.value_counts()"
   ]
  },
  {
   "cell_type": "code",
   "execution_count": null,
   "metadata": {
    "collapsed": true
   },
   "outputs": [],
   "source": [
    "if len(num_attacks_on_sametarget)>0:\n",
    "    fig = plt.figure(figsize=(1, 4))\n",
    "    fig.subplots_adjust(hspace=0.5,wspace=0.3)\n",
    "\n",
    "    ax2 = plt.subplot2grid((1,1), (0,0))\n",
    "\n",
    "    ax1 = ax2.twinx()\n",
    "    ax1.yaxis.set_major_formatter(ticker.FuncFormatter(lambda y, _: '{:.0%}'.format(y)))\n",
    "\n",
    "    freq_num_attacks_on_sametarget.to_frame().T.plot(kind='bar',ax=ax2, legend=True, stacked=True, title=\"\",fontsize=12).set_zorder(1)\n",
    "    ax2.set_xlabel(\"\")\n",
    "    ax2.set_ylim(0,len(num_attacks_on_sametarget))\n",
    "    ax2.set_ylabel(\"# distinct target\")\n",
    "\n",
    "    labels = list(freq_num_attacks_on_sametarget.index.values)\n",
    "    legend_show_top=10\n",
    "    ax2.legend(ax2.patches[0:legend_show_top], \n",
    "           labels[0:legend_show_top], \n",
    "           bbox_to_anchor=(2.9, 1.05),\n",
    "           fontsize=11)\n",
    "\n",
    "    plt.setp(ax2.get_xticklabels(), visible=False)\n",
    "\n",
    "    fig.show()\n",
    "    fig.savefig('figs/attacks_same_target.eps', bbox_inches='tight',format='eps', dpi=1200)\n",
    "else:\n",
    "    print(\"Unfortunately, there is no data available!\\n\")"
   ]
  },
  {
   "cell_type": "markdown",
   "metadata": {},
   "source": [
    "## 5.4. Intersection between users, customers, and attackers (venn diagram)"
   ]
  },
  {
   "cell_type": "code",
   "execution_count": null,
   "metadata": {
    "collapsed": true
   },
   "outputs": [],
   "source": [
    "print('4. Intersection between users, customers and attackers.')"
   ]
  },
  {
   "cell_type": "code",
   "execution_count": null,
   "metadata": {
    "collapsed": true
   },
   "outputs": [],
   "source": [
    "users_set=set(df_users['userid'].dropna().unique())\n",
    "customers_set=set(df_payments['userid'].dropna().unique())\n",
    "attackers_set=set(df_attacks['userid'].dropna().unique())\n",
    "\n",
    "intersec_customers_attacker=pd.Series(list(customers_set.intersection(attackers_set)))\n",
    "intersec_users_customers=pd.Series(list(users_set.intersection(customers_set)))\n",
    "intersec_users_attackers=pd.Series(list(users_set.intersection(attackers_set)))\n",
    "\n",
    "intersec_users_customers_attackers=pd.Series(list(users_set.intersection(customers_set).intersection(attackers_set)))"
   ]
  },
  {
   "cell_type": "code",
   "execution_count": null,
   "metadata": {
    "collapsed": true
   },
   "outputs": [],
   "source": [
    "fig = plt.figure(figsize=(8,8))\n",
    "\n",
    "ax = plt.subplot2grid((1,1), (0,0))\n",
    "\n",
    "venn=venn3(ax=ax,subsets = {'001':len(attackers_set)-len(intersec_customers_attacker)-len(intersec_users_attackers)+len(intersec_users_customers_attackers), \n",
    "                            '010':len(customers_set)-len(intersec_users_customers)-len(intersec_customers_attacker)+len(intersec_users_customers_attackers), \n",
    "                            '011':len(intersec_customers_attacker)-len(intersec_users_customers_attackers),\n",
    "                            '100':len(users_set)-len(intersec_users_customers)-len(intersec_users_attackers)+len(intersec_users_customers_attackers),\n",
    "                            '101':len(intersec_users_attackers)-len(intersec_users_customers_attackers),\n",
    "                            '110':len(intersec_users_customers)-len(intersec_users_customers_attackers),\n",
    "                            '111':len(intersec_users_customers_attackers)},\\\n",
    "          set_labels = ('Users', 'Customers','Attackers'),\\\n",
    "          alpha=1)\n",
    "fig.show()\n",
    "fig.savefig('figs/user_customers_attackers.eps', format='eps', dpi=1200) "
   ]
  },
  {
   "cell_type": "markdown",
   "metadata": {
    "collapsed": true
   },
   "source": [
    "## 5.5. Distribution of login times per user"
   ]
  },
  {
   "cell_type": "code",
   "execution_count": null,
   "metadata": {
    "collapsed": true
   },
   "outputs": [],
   "source": [
    "print('5. User login times')"
   ]
  },
  {
   "cell_type": "code",
   "execution_count": null,
   "metadata": {
    "collapsed": true
   },
   "outputs": [],
   "source": [
    "num_distinct_logins_per_user=df_logins['userid'].value_counts()\n",
    "freq_distinct_logins_per_user=num_distinct_logins_per_user.value_counts().sort_index()"
   ]
  },
  {
   "cell_type": "code",
   "execution_count": null,
   "metadata": {
    "collapsed": true
   },
   "outputs": [],
   "source": [
    "if len(num_distinct_logins_per_user)>0:\n",
    "    fig = plt.figure(figsize=(1, 4))\n",
    "    fig.subplots_adjust(hspace=0.5,wspace=0.3)\n",
    "\n",
    "    ax2 = plt.subplot2grid((1,1), (0,0))\n",
    "\n",
    "    ax1 = ax2.twinx()\n",
    "    ax1.yaxis.set_major_formatter(ticker.FuncFormatter(lambda y, _: '{:.0%}'.format(y)))\n",
    "\n",
    "    freq_distinct_logins_per_user.to_frame().T.plot(kind='bar',ax=ax2, legend=True, stacked=True, title=\"\",fontsize=12).set_zorder(1)\n",
    "    ax2.set_xlabel(\"\")\n",
    "    ax2.set_ylim(0,len(num_distinct_logins_per_user))\n",
    "    ax2.set_ylabel(\"# distinct users\")\n",
    "\n",
    "    ax2.legend(bbox_to_anchor=(2.9, 1.05),fontsize=11)\n",
    "\n",
    "    plt.setp( ax2.get_xticklabels(), visible=False)\n",
    "\n",
    "    fig.suptitle('')\n",
    "    fig.show()\n",
    "     \n",
    "    fig.savefig('figs/user_login_times.eps', bbox_inches='tight',format='eps', dpi=1200)\n",
    "else:\n",
    "    print(\"There is NO data available for plotting 'User login times'\")"
   ]
  },
  {
   "cell_type": "markdown",
   "metadata": {},
   "source": [
    "## 5.6. The time difference between an attack and the closest (previous) login of a user"
   ]
  },
  {
   "cell_type": "code",
   "execution_count": null,
   "metadata": {
    "collapsed": true
   },
   "outputs": [],
   "source": [
    "def nearestDate(base_date, date_list):\n",
    "    nearest={}\n",
    "    for date in date_list:\n",
    "        if (base_date.timestamp() - date.timestamp())>=0:\n",
    "            nearest[base_date.timestamp() - date.timestamp()]= date \n",
    "    if len(nearest)== 0:\n",
    "        return np.nan     \n",
    "    \n",
    "    else:\n",
    "        return nearest[min(nearest.keys())]"
   ]
  },
  {
   "cell_type": "code",
   "execution_count": null,
   "metadata": {
    "collapsed": true
   },
   "outputs": [],
   "source": [
    "df_attacks['nearestlogin']=\"\"\n",
    "df_attacks['nearestlogin']=pd.to_datetime(df_attacks['nearestlogin'])\n",
    "    \n",
    "if len(df_attacks)>0 and len(df_logins)>0:\n",
    "    #When was the last login of the user that performed attacks\n",
    "    df_attacks['nearestlogin']=\"\"\n",
    "    df_attacks['nearestlogin']=pd.to_datetime(df_attacks['nearestlogin'])\n",
    "\n",
    "    for index, row in df_attacks.iterrows():\n",
    "        intermediate_df= df_logins[df_logins['userid']==row['userid']]\n",
    "        nearestlogindate= nearestDate(row['date'],intermediate_df['date'])\n",
    "        df_attacks.at[index, 'nearestlogin'] = nearestlogindate"
   ]
  },
  {
   "cell_type": "code",
   "execution_count": null,
   "metadata": {
    "collapsed": true
   },
   "outputs": [],
   "source": [
    "time_difference_login_attack = (df_attacks['date']-df_attacks['nearestlogin'])"
   ]
  },
  {
   "cell_type": "code",
   "execution_count": null,
   "metadata": {
    "collapsed": true
   },
   "outputs": [],
   "source": [
    "print('\\n\\n6. From '+str(len(time_difference_login_attack))+' total attack records, '+\\\n",
    "      str(len(time_difference_login_attack.dropna()))+' have a login time to be correlated with. '+\n",
    "      'The difference between the attack and the closest login time is on average '+str(time_difference_login_attack.dropna().mean())+\n",
    "      ', while the median is equal to '+str(time_difference_login_attack.dropna().median()))"
   ]
  },
  {
   "cell_type": "markdown",
   "metadata": {},
   "source": [
    "## 5.7 Users that login via Tor"
   ]
  },
  {
   "cell_type": "code",
   "execution_count": null,
   "metadata": {
    "collapsed": true
   },
   "outputs": [],
   "source": [
    "tor_users = df_logins_torcheck[df_logins_torcheck['tor']==True]['userip'].value_counts()\n",
    "num_tor_users = len(tor_users)"
   ]
  },
  {
   "cell_type": "code",
   "execution_count": null,
   "metadata": {
    "collapsed": true
   },
   "outputs": [],
   "source": [
    "print('\\n\\n7. The number of distinct users that access this Booter via TOR is equal to '+str(num_tor_users)+'\\n\\n')"
   ]
  },
  {
   "cell_type": "markdown",
   "metadata": {},
   "source": [
    "## 5.8. Distribution of IP addresses per user"
   ]
  },
  {
   "cell_type": "code",
   "execution_count": null,
   "metadata": {
    "collapsed": true
   },
   "outputs": [],
   "source": [
    "print('8. User distinct IP addresses')"
   ]
  },
  {
   "cell_type": "code",
   "execution_count": null,
   "metadata": {
    "collapsed": true
   },
   "outputs": [],
   "source": [
    "num_distinct_ips_per_user=df_logins.groupby(['userid','userip']).size().reset_index()['userid'].value_counts()\n",
    "freq_distinct_ips_per_user=num_distinct_ips_per_user.value_counts().sort_index()"
   ]
  },
  {
   "cell_type": "code",
   "execution_count": null,
   "metadata": {
    "collapsed": true
   },
   "outputs": [],
   "source": [
    "if len(num_distinct_ips_per_user)>0:\n",
    "    fig = plt.figure(figsize=(1, 4))\n",
    "    fig.subplots_adjust(hspace=0.5,wspace=0.3)\n",
    "\n",
    "    ax2 = plt.subplot2grid((1,1), (0,0))\n",
    "\n",
    "    ax1 = ax2.twinx()\n",
    "    ax1.yaxis.set_major_formatter(ticker.FuncFormatter(lambda y, _: '{:.0%}'.format(y)))\n",
    "\n",
    "    freq_distinct_ips_per_user.to_frame().T.plot(kind='bar',ax=ax2, legend=True, stacked=True, title=\"\",fontsize=12).set_zorder(1)\n",
    "    ax2.set_xlabel(\"\")\n",
    "    ax2.set_ylim(0,len(num_distinct_ips_per_user))\n",
    "    ax2.set_ylabel(\"# distinct users\")\n",
    "\n",
    "    ax2.legend(bbox_to_anchor=(2.9, 1.05),fontsize=11)\n",
    "\n",
    "    plt.setp( ax2.get_xticklabels(), visible=False)\n",
    "\n",
    "    fig.show()\n",
    "    fig.savefig('figs/user_distinct_ips.eps', bbox_inches='tight',format='eps', dpi=1200)\n",
    "else:\n",
    "    print(\"There is NO data available for plotting 'User distinct IP addresses'\")"
   ]
  },
  {
   "cell_type": "markdown",
   "metadata": {},
   "source": [
    "## 5.9. Distribution of Number of Payments by Users"
   ]
  },
  {
   "cell_type": "code",
   "execution_count": null,
   "metadata": {
    "collapsed": true
   },
   "outputs": [],
   "source": [
    "print('9. User distinct payments')"
   ]
  },
  {
   "cell_type": "code",
   "execution_count": null,
   "metadata": {
    "collapsed": true
   },
   "outputs": [],
   "source": [
    "num_distinct_payments_per_user=df_payments['userid'].value_counts()\n",
    "freq_distinct_payments_per_user=num_distinct_payments_per_user.value_counts().sort_index()"
   ]
  },
  {
   "cell_type": "code",
   "execution_count": null,
   "metadata": {
    "collapsed": true
   },
   "outputs": [],
   "source": [
    "if len(num_distinct_payments_per_user)>0:\n",
    "    fig = plt.figure(figsize=(1, 4))\n",
    "    fig.subplots_adjust(hspace=0.5,wspace=0.3)\n",
    "\n",
    "    ax2 = plt.subplot2grid((1,1), (0,0))\n",
    "\n",
    "    ax1 = ax2.twinx()\n",
    "    ax1.yaxis.set_major_formatter(ticker.FuncFormatter(lambda y, _: '{:.0%}'.format(y)))\n",
    "\n",
    "    freq_distinct_payments_per_user.to_frame().T.plot(kind='bar',ax=ax2, legend=True, stacked=True, title=\"\",fontsize=12).set_zorder(1)\n",
    "    ax2.set_xlabel(\"\")\n",
    "    ax2.set_ylim(0,len(num_distinct_payments_per_user))\n",
    "    ax2.set_ylabel(\"# distinct users\")\n",
    "\n",
    "    ax2.legend(bbox_to_anchor=(2.9, 1.05),fontsize=11)\n",
    "\n",
    "    plt.setp( ax2.get_xticklabels(), visible=False)\n",
    "\n",
    "    fig.show()\n",
    "    fig.savefig('figs/user_distinct_payments.eps', bbox_inches='tight',format='eps', dpi=1200)\n",
    "else:\n",
    "    print(\"There is NO data available for plotting 'User distinct payments'\")"
   ]
  },
  {
   "cell_type": "markdown",
   "metadata": {},
   "source": [
    "## 5.10. Distribution of the money paid by Users"
   ]
  },
  {
   "cell_type": "code",
   "execution_count": null,
   "metadata": {
    "collapsed": true
   },
   "outputs": [],
   "source": [
    "print('10. Amount of money paid.')"
   ]
  },
  {
   "cell_type": "code",
   "execution_count": null,
   "metadata": {
    "collapsed": true
   },
   "outputs": [],
   "source": [
    "num_distinct_payments_money_per_user=pd.to_numeric(df_payments['amountpaid'], errors='coerce').value_counts().sort_index()"
   ]
  },
  {
   "cell_type": "code",
   "execution_count": null,
   "metadata": {
    "collapsed": true
   },
   "outputs": [],
   "source": [
    "if len(num_distinct_payments_money_per_user)>0:\n",
    "    fig = plt.figure(figsize=(1, 4))\n",
    "    fig.subplots_adjust(hspace=0.5,wspace=0.3)\n",
    "\n",
    "    ax2 = plt.subplot2grid((1,1), (0,0))\n",
    "\n",
    "    ax1 = ax2.twinx()\n",
    "    ax1.yaxis.set_major_formatter(ticker.FuncFormatter(lambda y, _: '{:.0%}'.format(y)))\n",
    "\n",
    "    num_distinct_payments_money_per_user.to_frame().T.plot(kind='bar',ax=ax2, legend=True, stacked=True, title=\"\",fontsize=12).set_zorder(1)\n",
    "    ax2.set_xlabel(\"\")\n",
    "    ax2.set_ylim(0,len(df_payments['amountpaid']))\n",
    "    ax2.set_ylabel(\"# records\")\n",
    "\n",
    "    plt.setp( ax2.get_xticklabels(), visible=False)\n",
    "    \n",
    "    labels = list(num_distinct_payments_money_per_user.index.values)\n",
    "    legend_show_top=10\n",
    "    ax2.legend(ax2.patches[0:legend_show_top], \n",
    "           labels[0:legend_show_top], \n",
    "           bbox_to_anchor=(2.9, 1.05),\n",
    "           fontsize=11)\n",
    "\n",
    "    fig.show()\n",
    "    fig.savefig('figs/amount_paid.eps', bbox_inches='tight',format='eps', dpi=1200)\n",
    "else:\n",
    "    print(\"There is NO data available for plotting 'Amount of money paid'.\")"
   ]
  },
  {
   "cell_type": "markdown",
   "metadata": {},
   "source": [
    "## 5.11. Total amount of money earned"
   ]
  },
  {
   "cell_type": "code",
   "execution_count": null,
   "metadata": {
    "collapsed": true
   },
   "outputs": [],
   "source": [
    "total_earned=pd.to_numeric(df_payments['amountpaid'], errors='coerce').sum()\n",
    "print('\\n\\n11. The (estimated) amount of money earned by this Booter is equal to US$ {:,.2f}\\n\\n'.format(float(total_earned)))"
   ]
  },
  {
   "cell_type": "markdown",
   "metadata": {},
   "source": [
    "## 5.12. Distribution of Countries that users access Booters"
   ]
  },
  {
   "cell_type": "code",
   "execution_count": null,
   "metadata": {
    "collapsed": true
   },
   "outputs": [],
   "source": [
    "print('12. Countries from where users (IPs) accessed the Booter.')"
   ]
  },
  {
   "cell_type": "code",
   "execution_count": null,
   "metadata": {
    "collapsed": true
   },
   "outputs": [],
   "source": [
    "logins_country_distribution=df_logins_extended['srccountry'].value_counts(dropna=False)"
   ]
  },
  {
   "cell_type": "code",
   "execution_count": null,
   "metadata": {
    "collapsed": true
   },
   "outputs": [],
   "source": [
    "if len(logins_country_distribution)>0:\n",
    "    fig = plt.figure(figsize=(1, 4))\n",
    "    fig.subplots_adjust(hspace=0.5,wspace=0.3)\n",
    "\n",
    "    ax2 = plt.subplot2grid((1,1), (0,0))\n",
    "\n",
    "    ax1 = ax2.twinx()\n",
    "    ax1.yaxis.set_major_formatter(ticker.FuncFormatter(lambda y, _: '{:.0%}'.format(y)))\n",
    "\n",
    "    logins_country_distribution.to_frame().T.plot(kind='bar',ax=ax2, legend=True, stacked=True, title=\"\",fontsize=12).set_zorder(1)\n",
    "    ax2.set_xlabel(\"\")\n",
    "    ax2.set_ylim(0,len(df_logins_extended['srccountry']))\n",
    "    ax2.set_ylabel(\"# records\")\n",
    "\n",
    "    labels = list(logins_country_distribution.index.values)\n",
    "    legend_show_top=10\n",
    "    ax2.legend(ax2.patches[0:legend_show_top], \n",
    "           labels[0:legend_show_top], \n",
    "           bbox_to_anchor=(2.9, 1.05),\n",
    "           fontsize=11)\n",
    "\n",
    "    plt.setp(ax2.get_xticklabels(), visible=False)\n",
    "\n",
    "    fig.show()\n",
    "    fig.savefig('figs/user_countries.eps', bbox_inches='tight',format='eps', dpi=1200)\n",
    "else:\n",
    "    print(\"Unfortunately, there is no data available!\\n\")"
   ]
  },
  {
   "cell_type": "markdown",
   "metadata": {},
   "source": [
    "## 5.13. Countries of blacklisted IPs"
   ]
  },
  {
   "cell_type": "code",
   "execution_count": null,
   "metadata": {
    "collapsed": true
   },
   "outputs": [],
   "source": [
    "print('13. Countries of blacklisted IPs.')"
   ]
  },
  {
   "cell_type": "code",
   "execution_count": null,
   "metadata": {
    "collapsed": true
   },
   "outputs": [],
   "source": [
    "blacklist_country_distribution=df_blacklist_extended['blacklistcountry'].value_counts(dropna=False)"
   ]
  },
  {
   "cell_type": "code",
   "execution_count": null,
   "metadata": {
    "collapsed": true
   },
   "outputs": [],
   "source": [
    "if len(blacklist_country_distribution)>0:\n",
    "    fig = plt.figure(figsize=(1, 4))\n",
    "    fig.subplots_adjust(hspace=0.5,wspace=0.3)\n",
    "\n",
    "    ax2 = plt.subplot2grid((1,1), (0,0))\n",
    "\n",
    "    ax1 = ax2.twinx()\n",
    "    ax1.yaxis.set_major_formatter(ticker.FuncFormatter(lambda y, _: '{:.0%}'.format(y)))\n",
    "\n",
    "    blacklist_country_distribution.to_frame().T.plot(kind='bar',ax=ax2, legend=True, stacked=True, title=\"\",fontsize=12).set_zorder(1)\n",
    "    ax2.set_xlabel(\"\")\n",
    "    ax2.set_ylim(0,len(df_blacklist_extended['blacklistcountry']))\n",
    "    ax2.set_ylabel(\"# blacklisted IP\")\n",
    "\n",
    "    labels = list(blacklist_country_distribution.index.values)\n",
    "    legend_show_top=10\n",
    "    ax2.legend(ax2.patches[0:legend_show_top], \n",
    "           labels[0:legend_show_top], \n",
    "           bbox_to_anchor=(2.9, 1.05),\n",
    "           fontsize=11)\n",
    "\n",
    "    plt.setp(ax2.get_xticklabels(), visible=False)\n",
    "\n",
    "    fig.show()\n",
    "    fig.savefig('figs/blacklisted_countries.eps', bbox_inches='tight',format='eps', dpi=1200)\n",
    "else:\n",
    "    print(\"Unfortunately, there is no data available!\\n\")"
   ]
  },
  {
   "cell_type": "markdown",
   "metadata": {
    "collapsed": true
   },
   "source": [
    "## 5.14. Target Countries"
   ]
  },
  {
   "cell_type": "code",
   "execution_count": null,
   "metadata": {
    "collapsed": true
   },
   "outputs": [],
   "source": [
    "print('14. Target (IP) countries.')"
   ]
  },
  {
   "cell_type": "code",
   "execution_count": null,
   "metadata": {
    "collapsed": true
   },
   "outputs": [],
   "source": [
    "attacks_country_distribution=df_attacks_extended['country'].value_counts(dropna=False)"
   ]
  },
  {
   "cell_type": "code",
   "execution_count": null,
   "metadata": {
    "collapsed": true
   },
   "outputs": [],
   "source": [
    "if len(attacks_country_distribution)>0:\n",
    "    fig = plt.figure(figsize=(1, 4))\n",
    "    fig.subplots_adjust(hspace=0.5,wspace=0.3)\n",
    "\n",
    "    ax2 = plt.subplot2grid((1,1), (0,0))\n",
    "\n",
    "    ax1 = ax2.twinx()\n",
    "    ax1.yaxis.set_major_formatter(ticker.FuncFormatter(lambda y, _: '{:.0%}'.format(y)))\n",
    "\n",
    "    attacks_country_distribution.to_frame().T.plot(kind='bar',ax=ax2, legend=True, stacked=True, title=\"\",fontsize=12).set_zorder(1)\n",
    "    ax2.set_xlabel(\"\")\n",
    "    ax2.set_ylim(0,len(df_attacks_extended['country']))\n",
    "    ax2.set_ylabel(\"# attacks\")\n",
    "\n",
    "    labels = list(attacks_country_distribution.index.values)\n",
    "    legend_show_top=10\n",
    "    ax2.legend(ax2.patches[0:legend_show_top], \n",
    "           labels[0:legend_show_top], \n",
    "           bbox_to_anchor=(2.9, 1.05),\n",
    "           fontsize=11)\n",
    "\n",
    "    plt.setp(ax2.get_xticklabels(), visible=False)\n",
    "\n",
    "    fig.show()\n",
    "    fig.savefig('figs/target_countries.eps', bbox_inches='tight',format='eps', dpi=1200)\n",
    "else:\n",
    "    print(\"Unfortunately, there is no data available!\\n\")"
   ]
  },
  {
   "cell_type": "markdown",
   "metadata": {},
   "source": [
    "## 5.16. Statistics on which users attacked which targets, in the country level"
   ]
  },
  {
   "cell_type": "code",
   "execution_count": null,
   "metadata": {
    "collapsed": true
   },
   "outputs": [],
   "source": [
    "print('16. Who attacked whom in the country level.')"
   ]
  },
  {
   "cell_type": "code",
   "execution_count": null,
   "metadata": {
    "collapsed": true
   },
   "outputs": [],
   "source": [
    "def nearestDate(base_date, date_list):\n",
    "    nearest={}\n",
    "    for date in date_list:\n",
    "        if (base_date.timestamp() - date.timestamp())>=0:\n",
    "            nearest[base_date.timestamp() - date.timestamp()]= date\n",
    "    if len(nearest)==0:\n",
    "        return np.nan\n",
    "    else:\n",
    "        return nearest[min(nearest.keys())]"
   ]
  },
  {
   "cell_type": "code",
   "execution_count": null,
   "metadata": {
    "collapsed": true
   },
   "outputs": [],
   "source": [
    "df_attacks_extended['nearestlogin']=\"\"\n",
    "df_attacks_extended['nearestlogin']=pd.to_datetime(df_attacks_extended['nearestlogin'])\n",
    "    \n",
    "if len(df_attacks_extended)>0 and len(df_logins_extended)>0:\n",
    "    #When was the last login of the user that performed attacks\n",
    "    df_attacks_extended['nearestlogin']=\"\"\n",
    "    df_attacks_extended['nearestlogin']=pd.to_datetime(df_attacks_extended['nearestlogin'])\n",
    "\n",
    "    for index, row in df_attacks_extended.iterrows():\n",
    "        intermediate_df= df_logins_extended[df_logins_extended['userid']==row['userid']]\n",
    "        nearestlogindate= nearestDate(row['date'],intermediate_df['date'])\n",
    "        df_attacks_extended.at[index, 'nearestlogin'] = nearestlogindate"
   ]
  },
  {
   "cell_type": "code",
   "execution_count": null,
   "metadata": {
    "collapsed": true
   },
   "outputs": [],
   "source": [
    "df_logins_and_attacks = pd.merge(df_attacks_extended, df_logins_extended, how='left', left_on='nearestlogin', right_on='date')\n",
    "attacker_target_country = df_logins_and_attacks[df_logins_and_attacks['nearestlogin'].notnull()][['srccountry','country']]\n",
    "who_against_whom=attacker_target_country.groupby(['srccountry','country']).size().reset_index().pivot('srccountry','country',0)"
   ]
  },
  {
   "cell_type": "code",
   "execution_count": null,
   "metadata": {
    "collapsed": true
   },
   "outputs": [],
   "source": [
    "if len(who_against_whom)>0:\n",
    "    fig = plt.figure(figsize=(32,32))\n",
    "\n",
    "    ax1 = plt.subplot2grid((1,1), (0,0))\n",
    "    sns.set()\n",
    "    sns.heatmap(who_against_whom,\n",
    "                ax=ax1,\n",
    "                 cmap=\"YlOrRd\",\n",
    "                linewidths=.5,\n",
    "                annot=True,\n",
    "                 fmt='g'\n",
    "                )\n",
    "\n",
    "    ax1.set_ylabel(\"Attacker Country\")\n",
    "    ax1.set_xlabel(\"Target Country\")\n",
    "\n",
    "    fig.show()\n",
    "    fig.savefig('figs/who_attack_whom.eps', bbox_inches='tight',format='eps', dpi=1200)\n",
    "else:\n",
    "    print(\"Unfortunately, there is no data available!\\n\")"
   ]
  }
 ],
 "metadata": {
  "kernelspec": {
   "display_name": "Python 3",
   "language": "python",
   "name": "python3"
  },
  "language_info": {
   "codemirror_mode": {
    "name": "ipython",
    "version": 3
   },
   "file_extension": ".py",
   "mimetype": "text/x-python",
   "name": "python",
   "nbconvert_exporter": "python",
   "pygments_lexer": "ipython3",
   "version": "3.9.15"
  },
  "widgets": {
   "state": {},
   "version": "1.1.2"
  }
 },
 "nbformat": 4,
 "nbformat_minor": 1
}
