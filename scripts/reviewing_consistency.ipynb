{
 "cells": [
  {
   "cell_type": "markdown",
   "metadata": {},
   "source": [
    "## 7. Adding missing tables accordingly to our generic Booter database "
   ]
  },
  {
   "cell_type": "code",
   "execution_count": null,
   "metadata": {
    "collapsed": true
   },
   "outputs": [],
   "source": [
    "if 'df_attacks' not in locals():\n",
    "    df_attacks= pd.DataFrame(columns=['id','userid','username','targetip','targeturl','duration','port','type','date'])\n",
    "if 'df_blacklist' not in locals():\n",
    "    df_blacklist=pd.DataFrame(columns=['id','ip','note'])\n",
    "if 'df_friendsenemies' not in locals():\n",
    "    df_friendsenemies=pd.DataFrame(columns=['id','ip','note','userid','type'])\n",
    "if 'df_gateways' not in locals():\n",
    "    df_gateways=pd.DataFrame(columns=['email'])\n",
    "if 'df_logins' not in locals():\n",
    "    df_logins=pd.DataFrame(columns=['id','userid','username','userip','date'])\n",
    "if 'df_payments' not in locals():\n",
    "    df_payments=pd.DataFrame(columns=['id','userid','username','amountpaid','paymentemail','planid','tid','date'])\n",
    "if 'df_plans' not in locals():\n",
    "    df_plans=pd.DataFrame(columns=['planid','planname','plandescr','price','maxboottime','concurrency'])\n",
    "if 'df_servers' not in locals():\n",
    "    df_servers=pd.DataFrame(columns=['id','ip'])\n",
    "if 'df_settings' not in locals():\n",
    "    df_settings=pd.DataFrame(columns=['url','sitename','siteemail'])\n",
    "if 'df_users' not in locals():\n",
    "    df_users=pd.DataFrame(columns=['userid','username','useremail','password','expire','plan'])      \n",
    "if 'df_webshells' not in locals():\n",
    "    df_webshells=pd.DataFrame(columns=['id','url','status','lastchecked','attacktype'])"
   ]
  },
  {
   "cell_type": "markdown",
   "metadata": {},
   "source": [
    "## Making the last adjusts on the consistency"
   ]
  },
  {
   "cell_type": "markdown",
   "metadata": {},
   "source": [
    "### In case df_attacks doesn't have userid (but username) AND df_users has both information "
   ]
  },
  {
   "cell_type": "code",
   "execution_count": null,
   "metadata": {
    "collapsed": true
   },
   "outputs": [],
   "source": [
    "if len(df_attacks)>0 and len(df_users)>0:\n",
    "    if (df_attacks['userid'].isnull().all() == True) and (df_attacks['username'].isnull().all() == False) and (df_users['userid'].isnull().all() == False) and (df_users['username'].isnull().all() == False):\n",
    "        df_attacks=pd.merge(df_attacks, df_users[['userid','username']], on='username', how='left',suffixes=('_old', ''))\n",
    "        df_attacks.drop('userid_old', axis=1, inplace=True)\n",
    "\n",
    "    if (df_attacks['userid'].isnull().all() == False) and (df_attacks['username'].isnull().all() == True) and (df_users['userid'].isnull().all() == False) and (df_users['username'].isnull().all() == False):\n",
    "        df_attacks=pd.merge(df_attacks, df_users[['userid','username']], on='userid', how='left',suffixes=('_old', ''))\n",
    "        df_attacks.drop('username_old', axis=1, inplace=True)"
   ]
  },
  {
   "cell_type": "markdown",
   "metadata": {
    "collapsed": true
   },
   "source": [
    "### In case df_logins doesn't have userid (but username) AND df_users has both information "
   ]
  },
  {
   "cell_type": "code",
   "execution_count": null,
   "metadata": {
    "collapsed": true
   },
   "outputs": [],
   "source": [
    "if len(df_logins)>0 and len(df_users)>0:\n",
    "    if (df_logins['userid'].isnull().all() == True) and (df_logins['username'].isnull().all() == False) and (df_users['userid'].isnull().all() == False) and (df_users['username'].isnull().all() == False):\n",
    "        df_logins=pd.merge(df_logins, df_users[['userid','username']], on='username', how='left',suffixes=('_old', ''))\n",
    "        df_logins.drop('userid_old', axis=1, inplace=True)\n",
    "\n",
    "    if ((df_logins['username'].isnull().all() == True) and df_logins['userid'].isnull().all() == False) and (df_users['userid'].isnull().all() == False) and (df_users['username'].isnull().all() == False):\n",
    "        df_logins=pd.merge(df_logins, df_users[['userid','username']], on='userid', how='left',suffixes=('_old', ''))\n",
    "        df_logins.drop('username_old', axis=1, inplace=True)"
   ]
  },
  {
   "cell_type": "markdown",
   "metadata": {},
   "source": [
    "## Displaying the overview of records in the adapted Booter database"
   ]
  },
  {
   "cell_type": "code",
   "execution_count": null,
   "metadata": {
    "collapsed": true
   },
   "outputs": [],
   "source": [
    "print('\\n\\nOverview of records in the adapted Booter database:')"
   ]
  },
  {
   "cell_type": "code",
   "execution_count": null,
   "metadata": {
    "collapsed": true
   },
   "outputs": [],
   "source": [
    "display(pd.DataFrame({'df_users' : len(df_users),\n",
    "              'df_logins': len(df_logins),\n",
    "              'df_attacks': len(df_attacks),\n",
    "              'df_payments': len(df_payments),\n",
    "              'df_settings':len(df_settings),\n",
    "              'df_gateways':len(df_gateways), \n",
    "              'df_friendsenemies': len(df_friendsenemies),\n",
    "              'df_blacklist':len(df_blacklist),\n",
    "              'df_webshells': len(df_webshells),\n",
    "              'df_servers':len(df_servers),\n",
    "              'df_plans': len(df_plans)},index=[0]))"
   ]
  },
  {
   "cell_type": "code",
   "execution_count": null,
   "metadata": {
    "collapsed": true
   },
   "outputs": [],
   "source": [
    "print('\\n\\nOverview in latex format for copy-&-paste:\\n')\n",
    "print (pd.DataFrame({'users' : len(df_users),\n",
    "              'logins': len(df_logins),\n",
    "              'attacks': len(df_attacks),\n",
    "              'payments': len(df_payments),\n",
    "              'settings':len(df_settings),\n",
    "              'gateways':len(df_gateways), \n",
    "              'friendsenemies': len(df_friendsenemies),\n",
    "              'blacklist':len(df_blacklist),\n",
    "              'webshells': len(df_webshells),\n",
    "              'servers':len(df_servers),\n",
    "              'plans': len(df_plans)},index=[0]).to_latex())"
   ]
  },
  {
   "cell_type": "code",
   "execution_count": null,
   "metadata": {
    "collapsed": true
   },
   "outputs": [],
   "source": []
  }
 ],
 "metadata": {
  "kernelspec": {
   "display_name": "Python 3",
   "language": "python",
   "name": "python3"
  },
  "language_info": {
   "codemirror_mode": {
    "name": "ipython",
    "version": 3
   },
   "file_extension": ".py",
   "mimetype": "text/x-python",
   "name": "python",
   "nbconvert_exporter": "python",
   "pygments_lexer": "ipython3",
   "version": "3.5.2"
  },
  "widgets": {
   "state": {},
   "version": "1.1.2"
  }
 },
 "nbformat": 4,
 "nbformat_minor": 1
}
